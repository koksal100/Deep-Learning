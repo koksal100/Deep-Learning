{
  "nbformat": 4,
  "nbformat_minor": 0,
  "metadata": {
    "colab": {
      "provenance": [],
      "gpuType": "T4",
      "authorship_tag": "ABX9TyNOUY+JVUwnnhyHwb/nlQgm",
      "include_colab_link": true
    },
    "kernelspec": {
      "name": "python3",
      "display_name": "Python 3"
    },
    "language_info": {
      "name": "python"
    },
    "accelerator": "GPU"
  },
  "cells": [
    {
      "cell_type": "markdown",
      "metadata": {
        "id": "view-in-github",
        "colab_type": "text"
      },
      "source": [
        "<a href=\"https://colab.research.google.com/github/koksal100/Deep-Learning/blob/main/AnadoluHayat.ipynb\" target=\"_parent\"><img src=\"https://colab.research.google.com/assets/colab-badge.svg\" alt=\"Open In Colab\"/></a>"
      ]
    },
    {
      "cell_type": "code",
      "source": [
        "import tensorflow as tf\n",
        "from google.colab import drive\n",
        "drive.mount('/content/drive')"
      ],
      "metadata": {
        "id": "ql1VvmQrylwE",
        "colab": {
          "base_uri": "https://localhost:8080/"
        },
        "outputId": "24506c24-d1e7-41e6-a5e7-f1b4a1b0eb84"
      },
      "execution_count": null,
      "outputs": [
        {
          "output_type": "stream",
          "name": "stdout",
          "text": [
            "Mounted at /content/drive\n"
          ]
        }
      ]
    },
    {
      "cell_type": "code",
      "execution_count": null,
      "metadata": {
        "id": "nNun_P55xqC6"
      },
      "outputs": [],
      "source": []
    },
    {
      "cell_type": "code",
      "source": [
        "import pandas as pd\n",
        "\n",
        "df=pd.read_csv(\"/content/drive/MyDrive/Colab Notebooks/Sigorta/train.csv\")"
      ],
      "metadata": {
        "id": "mlwazXfiyLN5",
        "colab": {
          "base_uri": "https://localhost:8080/"
        },
        "outputId": "a67ca594-62be-4484-f9dc-f502cc7255bf"
      },
      "execution_count": null,
      "outputs": [
        {
          "output_type": "stream",
          "name": "stderr",
          "text": [
            "<ipython-input-2-9e78fc376c58>:3: DtypeWarning: Columns (15) have mixed types. Specify dtype option on import or set low_memory=False.\n",
            "  df=pd.read_csv(\"/content/drive/MyDrive/Colab Notebooks/Sigorta/train.csv\")\n"
          ]
        }
      ]
    },
    {
      "cell_type": "code",
      "source": [
        "df.columns"
      ],
      "metadata": {
        "id": "IJYyC9IR4P2P",
        "colab": {
          "base_uri": "https://localhost:8080/"
        },
        "outputId": "a53d04c9-fcef-402b-ecb6-45621e78a33d"
      },
      "execution_count": null,
      "outputs": [
        {
          "output_type": "execute_result",
          "data": {
            "text/plain": [
              "Index(['MUSTERI_ID', 'LABEL', 'FLAG', 'PP_CINSIYET', 'PP_YAS', 'PP_MESLEK',\n",
              "       'PP_MUSTERI_SEGMENTI', 'PP_UYRUK', 'IL', 'SORU_YATIRIM_KARAKTERI_CVP',\n",
              "       'SORU_YATIRIM_KARAKTERI_RG', 'SORU_MEDENI_HAL_CVP',\n",
              "       'SORU_MEDENI_HAL_RG', 'SORU_EGITIM_CVP', 'SORU_EGITIM_RG',\n",
              "       'SORU_GELIR_CVP', 'SORU_GELIR_RG', 'SORU_COCUK_SAYISI_CVP',\n",
              "       'SORU_COCUK_SAYISI_RG', 'BES_AYRILMA_TALEP_ADET', 'ODEMEME_TALEP_ADET',\n",
              "       'HAYAT_AYRILMA_TALEP_ADET', 'BILGI_TALEP_ADET', 'VADE_TUTAR_0',\n",
              "       'ODEME_TUTAR_0', 'VADE_TUTAR_1', 'ODEME_TUTAR_1', 'VADE_TUTAR_2',\n",
              "       'ODEME_TUTAR_2', 'VADE_TUTAR_3', 'ODEME_TUTAR_3', 'VADE_TUTAR_4',\n",
              "       'ODEME_TUTAR_4', 'VADE_TUTAR_5', 'ODEME_TUTAR_5', 'VADE_TUTAR_6',\n",
              "       'ODEME_TUTAR_6', 'VADE_TUTAR_7', 'ODEME_TUTAR_7', 'VADE_TUTAR_8',\n",
              "       'ODEME_TUTAR_8', 'VADE_TUTAR_9', 'ODEME_TUTAR_9', 'VADE_TUTAR_10',\n",
              "       'ODEME_TUTAR_10', 'VADE_TUTAR_11', 'ODEME_TUTAR_11',\n",
              "       'SON_AY_KATKI_MIKTARI', 'SON_AY_KATKI_ADET', 'SON_CEYREK_KATKI_MIKTARI',\n",
              "       'SON_CEYREK_KATKI_ADET', 'SON_SENE_KATKI_MIKTARI',\n",
              "       'SON_SENE_KATKI_ADET', 'ANAPARA', 'GETIRI', 'BU01', 'BU02', 'BU03',\n",
              "       'BU04', 'BU05', 'BU06', 'BU07', 'BU08', 'BU09', 'BU10', 'BU11', 'BU12',\n",
              "       'BU13', 'BU14', 'BU15', 'BU16', 'BU17', 'BU18', 'BU19', 'BU20', 'BU21',\n",
              "       'BU22', 'BU23', 'BU24', 'HU01', 'HU02', 'HU03', 'HU04', 'HU05', 'HU06',\n",
              "       'HU07', 'HU10', 'HU11', 'HU12', 'HU13', 'HU14', 'HU15', 'HU16', 'HU17',\n",
              "       'HU18', 'HU19', 'AKTIF_ILK_POLICE_RG'],\n",
              "      dtype='object')"
            ]
          },
          "metadata": {},
          "execution_count": 3
        }
      ]
    },
    {
      "cell_type": "code",
      "source": [
        "df.drop(\"MUSTERI_ID\",axis=1,inplace=True)"
      ],
      "metadata": {
        "id": "IEsMw_FQ0mg2"
      },
      "execution_count": null,
      "outputs": []
    },
    {
      "cell_type": "code",
      "source": [
        "df[\"LABEL\"]"
      ],
      "metadata": {
        "id": "BZ2-GqHj4HDK",
        "colab": {
          "base_uri": "https://localhost:8080/"
        },
        "outputId": "f209d795-1c79-4367-f314-5c29819b9f7f"
      },
      "execution_count": null,
      "outputs": [
        {
          "output_type": "execute_result",
          "data": {
            "text/plain": [
              "0           UA\n",
              "1           UA\n",
              "2         HU19\n",
              "3           UA\n",
              "4           UA\n",
              "          ... \n",
              "852714      UA\n",
              "852715      UA\n",
              "852716      UA\n",
              "852717      UA\n",
              "852718      UA\n",
              "Name: LABEL, Length: 852719, dtype: object"
            ]
          },
          "metadata": {},
          "execution_count": 5
        }
      ]
    },
    {
      "cell_type": "code",
      "source": [
        "df=pd.concat([pd.get_dummies(df[\"LABEL\"],prefix=\"label\"),df],axis=1)\n",
        "\n",
        "df.drop(\"LABEL\",axis=1,inplace=True)\n",
        "\n",
        "df[\"SON_SENE_KATKI_MIKTARI\"].describe()\n",
        "\n",
        "corelations=df.corr(numeric_only=True)[[\"label_HU06\",\"label_HU07\",\"label_HU11\",\"label_HU12\",\"label_HU14\",\"label_HU15\",\"label_HU19\",\"label_UA\"]]\n",
        "\n",
        "df.select_dtypes(include=\"object\")\n",
        "\n",
        "corelations.loc[\"SON_SENE_KATKI_MIKTARI\"]\n",
        "\n",
        "meslekGroupby=df.groupby(\"PP_MESLEK\").mean(numeric_only=True)[[\"label_HU06\",\"label_HU07\",\"label_HU11\",\"label_HU12\",\"label_HU14\",\"label_HU15\",\"label_HU19\"]]\n",
        "meslekGroupby.loc[\"Akademisyen\"].argmax()\n",
        "\n",
        "karaktergroupby=df.groupby(\"SORU_YATIRIM_KARAKTERI_CVP\").mean(numeric_only=True)[[\"label_HU06\",\"label_HU07\",\"label_HU11\",\"label_HU12\",\"label_HU14\",\"label_HU15\",\"label_HU19\"]]\n",
        "karaktergroupby\n",
        "\n",
        "medeniGroupby=df.groupby(\"SORU_MEDENI_HAL_CVP\").mean(numeric_only=True)[[\"label_HU06\",\"label_HU07\",\"label_HU11\",\"label_HU12\",\"label_HU14\",\"label_HU15\",\"label_HU19\"]]\n",
        "medeniGroupby\n",
        "\n",
        "eğitimGroupby=df.groupby(\"SORU_EGITIM_CVP\").mean(numeric_only=True)[[\"label_HU06\",\"label_HU07\",\"label_HU11\",\"label_HU12\",\"label_HU14\",\"label_HU15\",\"label_HU19\"]]\n",
        "eğitimGroupby\n",
        "\n",
        "df[\"MeslekTercih\"]=df[\"PP_MESLEK\"].apply(lambda x:meslekGroupby.columns[meslekGroupby.loc[x].argmax()] if x in meslekGroupby.index else \"label_UA\")\n",
        "\n",
        "df[\"KarakterTercih\"]=df[\"SORU_YATIRIM_KARAKTERI_CVP\"].apply(lambda x:karaktergroupby.columns[karaktergroupby.loc[x].argmax()] if x in karaktergroupby.index else \"label_UA\")\n",
        "\n",
        "df[\"MedeniTercih\"]=df[\"SORU_MEDENI_HAL_CVP\"].apply(lambda x:medeniGroupby.columns[medeniGroupby.loc[x].argmax()] if x in medeniGroupby.index else \"label_UA\")\n",
        "\n",
        "df[\"EğitimTercih\"]=df[\"SORU_EGITIM_CVP\"].apply(lambda x:eğitimGroupby.columns[eğitimGroupby.loc[x].argmax()] if x in eğitimGroupby.index else \"label_UA\")\n",
        "\n",
        "\n",
        "df.drop(\"PP_MESLEK\",axis=1,inplace=True)\n",
        "\n",
        "df=pd.concat([df,pd.get_dummies(df[\"FLAG\"])],axis=1)\n",
        "\n",
        "df.drop(\"FLAG\",axis=1,inplace=True)\n",
        "\n",
        "\n",
        "df.isnull().sum().sort_values(ascending=False).head(30)\n",
        "\n",
        "df.select_dtypes(include=\"object\").columns\n",
        "\n",
        "df.drop(\"SORU_YATIRIM_KARAKTERI_CVP\",axis=1,inplace=True)\n",
        "\n",
        "df.drop(\"SORU_MEDENI_HAL_CVP\",axis=1,inplace=True)\n",
        "\n",
        "df.drop(\"SORU_EGITIM_CVP\",axis=1,inplace=True)\n",
        "\n",
        "def convert(x):\n",
        "    if isinstance(x,float):\n",
        "        return x\n",
        "    if \",\" in x:\n",
        "        x=x.replace(\",\",\".\")\n",
        "    if isinstance(x,float):\n",
        "        return x\n",
        "    else:\n",
        "        return float(x)\n",
        "\n",
        "df[\"SORU_GELIR_CVP\"]=df[\"SORU_GELIR_CVP\"].apply(convert)\n",
        "\n",
        "df[\"SORU_GELIR_CVP\"].fillna(df[\"SORU_GELIR_CVP\"].mean(),inplace=True)\n",
        "\n",
        "df[\"SORU_GELIR_CVP\"]\n",
        "\n",
        "df.select_dtypes(include=\"object\").columns\n",
        "\n",
        "df.isnull().sum().sort_values(ascending=False).head(20)\n",
        "\n",
        "df.drop(\"SORU_MEDENI_HAL_RG\",axis=1,inplace=True)\n",
        "\n",
        "df.drop(\"SORU_EGITIM_RG\",axis=1,inplace=True)\n",
        "\n",
        "df.drop(\"SORU_GELIR_RG\",axis=1,inplace=True)\n",
        "\n",
        "df[\"SORU_COCUK_SAYISI_CVP\"].value_counts()"
      ],
      "metadata": {
        "id": "7O1VaqHT0953",
        "colab": {
          "base_uri": "https://localhost:8080/"
        },
        "outputId": "d97d8e7e-1f7d-48d4-9868-9a31c1b1aa4a"
      },
      "execution_count": null,
      "outputs": [
        {
          "output_type": "execute_result",
          "data": {
            "text/plain": [
              "0.0       411051\n",
              "2.0        10765\n",
              "1.0        10240\n",
              "3.0         2925\n",
              "4.0          757\n",
              "5.0          259\n",
              "6.0           90\n",
              "7.0           36\n",
              "8.0           19\n",
              "10.0           8\n",
              "9.0            3\n",
              "11.0           2\n",
              "3000.0         1\n",
              "14.0           1\n",
              "20.0           1\n",
              "21.0           1\n",
              "Name: SORU_COCUK_SAYISI_CVP, dtype: int64"
            ]
          },
          "metadata": {},
          "execution_count": 6
        }
      ]
    },
    {
      "cell_type": "code",
      "source": [
        "df[\"SORU_COCUK_SAYISI_CVP\"].fillna(df[\"SORU_COCUK_SAYISI_CVP\"].mean(),inplace=True)\n",
        "\n",
        "df.drop(\"SORU_COCUK_SAYISI_RG\",axis=1,inplace=True)\n",
        "\n",
        "df.drop(\"SORU_YATIRIM_KARAKTERI_RG\",axis=1,inplace=True)"
      ],
      "metadata": {
        "id": "MzG5hN9J1RHB"
      },
      "execution_count": null,
      "outputs": []
    },
    {
      "cell_type": "code",
      "source": [
        "df[\"SON_AY_KATKI_ADET\"].fillna(df[\"SON_AY_KATKI_ADET\"].mean(),inplace=True)\n",
        "\n",
        "df[\"SON_AY_KATKI_ADET\"].fillna(df[\"SON_AY_KATKI_ADET\"].mean(),inplace=True)\n",
        "\n",
        "df[\"SON_AY_KATKI_MIKTARI\"].fillna(df[\"SON_AY_KATKI_MIKTARI\"].mean(),inplace=True)\n",
        "\n",
        "df[\"SON_CEYREK_KATKI_ADET\"].fillna(df[\"SON_CEYREK_KATKI_ADET\"].mean(),inplace=True)\n",
        "\n",
        "df[\"SON_CEYREK_KATKI_MIKTARI\"].fillna(df[\"SON_CEYREK_KATKI_MIKTARI\"].mean(),inplace=True)\n",
        "\n",
        "df[\"SON_SENE_KATKI_ADET\"].fillna(df[\"SON_SENE_KATKI_ADET\"].mean(),inplace=True)\n",
        "\n",
        "df[\"SON_SENE_KATKI_MIKTARI\"].fillna(df[\"SON_SENE_KATKI_MIKTARI\"].mean(),inplace=True)\n",
        "\n",
        "from sklearn.linear_model import LogisticRegression"
      ],
      "metadata": {
        "id": "4mYpn9Bd1pRf"
      },
      "execution_count": null,
      "outputs": []
    },
    {
      "cell_type": "code",
      "source": [
        "for column in df.select_dtypes(include=\"object\").columns:\n",
        "    df=pd.concat([pd.get_dummies(df[column]),df],axis=1)\n",
        "    df.drop(column,axis=1,inplace=True)\n",
        "\n",
        "\n"
      ],
      "metadata": {
        "id": "UqE6JGVQ1x-v"
      },
      "execution_count": null,
      "outputs": []
    },
    {
      "cell_type": "code",
      "source": [
        "classWeights={\n",
        "   \"HU06\" : 0.0385,\n",
        "\"HU07\" : 0.0328,\n",
        "\"HU11\" : 0.2791,\n",
        "\"HU12\" : 0.1812,\n",
        "\"HU14\" : 0.0113,\n",
        "\"HU15\" : 0.2952,\n",
        "\"HU19\" : 0.1614,\n",
        "\"UA\" : 0.0001 ,\n",
        "}\n",
        "x=df.drop([\"label_HU06\",\"label_HU07\",\"label_HU11\",\"label_HU12\",\"label_HU14\",\"label_HU15\",\"label_HU19\",\"label_UA\"],axis=1)\n",
        "\n",
        "y=df[[\"label_HU06\",\"label_HU07\",\"label_HU11\",\"label_HU12\",\"label_HU14\",\"label_HU15\",\"label_HU19\",\"label_UA\"]]\n",
        "\n",
        "df1=pd.read_csv(\"/content/drive/MyDrive/Colab Notebooks/Sigorta/train.csv\")\n",
        "y=df1[\"LABEL\"]\n",
        "\n"
      ],
      "metadata": {
        "id": "jAikjA7J18Pz"
      },
      "execution_count": null,
      "outputs": []
    },
    {
      "cell_type": "code",
      "source": [
        "model = LogisticRegression(multi_class='ovr',class_weight=classWeights,max_iter=500000)\n",
        "model.fit(x, y)\n",
        "\n",
        "\n",
        "\n",
        "from sklearn.model_selection import train_test_split\n",
        "\n",
        "X_train, X_test, y_train, y_test = train_test_split(x, y, test_size=0.33, random_state=42)\n",
        "\n",
        "from sklearn.metrics import f1_score\n",
        "\n",
        "f1_score(y_test,model.predict(X_test),average=\"macro\")"
      ],
      "metadata": {
        "id": "W6BCRof-A01L"
      },
      "execution_count": null,
      "outputs": []
    },
    {
      "cell_type": "code",
      "source": [
        "from sklearn.preprocessing import StandardScaler\n",
        "from sklearn.model_selection import train_test_split\n",
        "\n",
        "X_train, X_test, y_train, y_test = train_test_split(x, y, test_size=0.33, random_state=42)\n",
        "\n",
        "from sklearn.metrics import f1_score\n",
        "\n",
        "st=StandardScaler()\n",
        "\n",
        "X_train, X_test, y_train, y_test = train_test_split(x, y, test_size=0.33, random_state=42)\n",
        "X_train=st.fit_transform(X_train)\n",
        "X_test=st.transform(X_test)\n",
        "\n",
        "from sklearn.neighbors import KNeighborsClassifier\n",
        "\n",
        "\n",
        "knn = KNeighborsClassifier(n_neighbors=8)\n",
        "\n",
        "\n",
        "knn.fit(X_train, y_train)\n",
        "\n",
        "# Test kümesi üzerinde tahmin yap\n",
        "y_pred = knn.predict(X_test)\n",
        "\n",
        "f1_score(y_test,y_pred,average=\"macro\")"
      ],
      "metadata": {
        "id": "Le_8ELr09RID"
      },
      "execution_count": null,
      "outputs": []
    },
    {
      "cell_type": "code",
      "source": [
        "from sklearn.tree import DecisionTreeClassifier\n",
        "\n",
        "# Modeli oluşturma\n",
        "model = DecisionTreeClassifier()\n",
        "\n",
        "# Veriyi modele uydurma\n",
        "model.fit(X_train, y_train)\n",
        "\n",
        "# Tahmin yapma\n",
        "y_pred = model.predict(X_test)\n",
        "\n",
        "f1_score(y_test,y_pred,average=\"macro\")\n"
      ],
      "metadata": {
        "id": "gg7tnPXy6op9"
      },
      "execution_count": null,
      "outputs": []
    },
    {
      "cell_type": "code",
      "source": [
        "from sklearn.ensemble import RandomForestClassifier\n",
        "\n",
        "# Modeli oluşturma\n",
        "model = RandomForestClassifier()\n",
        "\n",
        "# Veriyi modele uydurma\n",
        "model.fit(X_train, y_train)\n",
        "\n",
        "# Tahmin yapma\n",
        "y_pred = model.predict(X_test)\n",
        "\n",
        "\n",
        "f1_score(y_test,y_pred,average=\"macro\")"
      ],
      "metadata": {
        "id": "ZA1Dqk4k6tKG"
      },
      "execution_count": null,
      "outputs": []
    },
    {
      "cell_type": "code",
      "source": [
        "from sklearn.svm import SVC\n",
        "\n",
        "# Modeli oluşturma\n",
        "model = SVC(decision_function_shape='ovo')\n",
        "\n",
        "# Veriyi modele uydurma\n",
        "model.fit(X_train, y_train)\n",
        "\n",
        "# Tahmin yapma\n",
        "y_pred = model.predict(X_test)\n",
        "\n",
        "\n",
        "f1_score(y_test,y_pred,average=\"macro\")"
      ],
      "metadata": {
        "id": "NoALoJgV6v-L"
      },
      "execution_count": null,
      "outputs": []
    },
    {
      "cell_type": "code",
      "source": [
        "from sklearn.neural_network import MLPClassifier\n",
        "\n",
        "# Modeli oluşturma\n",
        "model = MLPClassifier()\n",
        "\n",
        "# Veriyi modele uydurma\n",
        "model.fit(X_train, y_train)\n",
        "\n",
        "# Tahmin yapma\n",
        "y_pred = model.predict(X_test)\n",
        "\n",
        "\n",
        "f1_score(y_test,y_pred,average=\"macro\")"
      ],
      "metadata": {
        "id": "Z2unkV8k8hBs"
      },
      "execution_count": null,
      "outputs": []
    },
    {
      "cell_type": "code",
      "source": [
        "from sklearn.ensemble import GradientBoostingClassifier\n",
        "\n",
        "# Modeli oluşturma\n",
        "model = GradientBoostingClassifier()\n",
        "\n",
        "# Veriyi modele uydurma\n",
        "model.fit(X_train, y_train)\n",
        "\n",
        "# Tahmin yapma\n",
        "y_pred = model.predict(X_test)\n",
        "\n",
        "f1_score(y_test,y_pred,average=\"macro\")\n"
      ],
      "metadata": {
        "id": "NbVtn6n38jTH"
      },
      "execution_count": null,
      "outputs": []
    },
    {
      "cell_type": "code",
      "source": [
        "from sklearn.ensemble import AdaBoostClassifier\n",
        "\n",
        "# Modeli oluşturma\n",
        "model = AdaBoostClassifier()\n",
        "\n",
        "# Veriyi modele uydurma\n",
        "model.fit(X_train, y_train)\n",
        "\n",
        "# Tahmin yapma\n",
        "y_pred = model.predict(X_test)\n",
        "\n",
        "\n",
        "f1_score(y_test,y_pred,average=\"macro\")"
      ],
      "metadata": {
        "id": "H8QAqdYm8oJI"
      },
      "execution_count": null,
      "outputs": []
    },
    {
      "cell_type": "code",
      "source": [
        "from xgboost import XGBClassifier\n",
        "\n",
        "# Modeli oluşturma\n",
        "model = XGBClassifier()\n",
        "\n",
        "# Veriyi modele uydurma\n",
        "model.fit(X_train, y_train)\n",
        "\n",
        "# Tahmin yapma\n",
        "y_pred = model.predict(X_test)\n",
        "\n",
        "\n",
        "f1_score(y_test,y_pred,average=\"macro\")"
      ],
      "metadata": {
        "id": "IyI5CAAF8rWn"
      },
      "execution_count": null,
      "outputs": []
    },
    {
      "cell_type": "code",
      "source": [
        "\n",
        "from lightgbm import LGBMClassifier\n",
        "\n",
        "# Modeli oluşturma\n",
        "model = LGBMClassifier()\n",
        "\n",
        "# Veriyi modele uydurma\n",
        "model.fit(X_train, y_train)\n",
        "\n",
        "# Tahmin yapma\n",
        "y_pred = model.predict(X_test)\n",
        "\n",
        "\n",
        "f1_score(y_test,y_pred,average=\"macro\")"
      ],
      "metadata": {
        "id": "DpiBr_oP8td3"
      },
      "execution_count": null,
      "outputs": []
    },
    {
      "cell_type": "code",
      "source": [
        "\n",
        "from catboost import CatBoostClassifier\n",
        "\n",
        "# Modeli oluşturma\n",
        "model = CatBoostClassifier()\n",
        "\n",
        "# Veriyi modele uydurma\n",
        "model.fit(X_train, y_train)\n",
        "\n",
        "# Tahmin yapma\n",
        "y_pred = model.predict(X_test)\n",
        "\n",
        "\n",
        "f1_score(y_test,y_pred,average=\"macro\")\n"
      ],
      "metadata": {
        "id": "VPBh6aNE8veH"
      },
      "execution_count": null,
      "outputs": []
    },
    {
      "cell_type": "code",
      "source": [
        "from sklearn.naive_bayes import GaussianNB\n",
        "\n",
        "# Modeli oluşturma\n",
        "model = GaussianNB()\n",
        "\n",
        "# Veriyi modele uydurma\n",
        "model.fit(X_train, y_train)\n",
        "\n",
        "# Tahmin yapma\n",
        "y_pred = model.predict(X_test)\n",
        "\n",
        "\n",
        "f1_score(y_test,y_pred,average=\"macro\")\n",
        "\n",
        "\n",
        "\n",
        "\n",
        "\n",
        "\n",
        "\n",
        "\n"
      ],
      "metadata": {
        "id": "FbQqKtCK6zbl"
      },
      "execution_count": null,
      "outputs": []
    },
    {
      "cell_type": "code",
      "source": [],
      "metadata": {
        "id": "zdSKZoOR8wLG"
      },
      "execution_count": null,
      "outputs": []
    }
  ]
}